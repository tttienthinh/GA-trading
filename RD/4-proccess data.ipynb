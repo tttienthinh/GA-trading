{
 "cells": [
  {
   "cell_type": "code",
   "execution_count": 2,
   "metadata": {},
   "outputs": [],
   "source": [
    "import pandas as pd"
   ]
  },
  {
   "cell_type": "markdown",
   "metadata": {},
   "source": [
    "# Opening"
   ]
  },
  {
   "cell_type": "code",
   "execution_count": 12,
   "metadata": {
    "scrolled": true
   },
   "outputs": [
    {
     "data": {
      "text/html": [
       "<div>\n",
       "<style scoped>\n",
       "    .dataframe tbody tr th:only-of-type {\n",
       "        vertical-align: middle;\n",
       "    }\n",
       "\n",
       "    .dataframe tbody tr th {\n",
       "        vertical-align: top;\n",
       "    }\n",
       "\n",
       "    .dataframe thead th {\n",
       "        text-align: right;\n",
       "    }\n",
       "</style>\n",
       "<table border=\"1\" class=\"dataframe\">\n",
       "  <thead>\n",
       "    <tr style=\"text-align: right;\">\n",
       "      <th></th>\n",
       "      <th>timestamp</th>\n",
       "      <th>open</th>\n",
       "      <th>high</th>\n",
       "      <th>low</th>\n",
       "      <th>close</th>\n",
       "      <th>volume</th>\n",
       "    </tr>\n",
       "  </thead>\n",
       "  <tbody>\n",
       "    <tr>\n",
       "      <th>0</th>\n",
       "      <td>2020-06-07</td>\n",
       "      <td>9666.85</td>\n",
       "      <td>9802.00</td>\n",
       "      <td>9372.46</td>\n",
       "      <td>9746.99</td>\n",
       "      <td>57952.848385</td>\n",
       "    </tr>\n",
       "    <tr>\n",
       "      <th>1</th>\n",
       "      <td>2020-06-08</td>\n",
       "      <td>9746.99</td>\n",
       "      <td>9800.00</td>\n",
       "      <td>9633.00</td>\n",
       "      <td>9782.01</td>\n",
       "      <td>40664.664125</td>\n",
       "    </tr>\n",
       "    <tr>\n",
       "      <th>2</th>\n",
       "      <td>2020-06-09</td>\n",
       "      <td>9782.00</td>\n",
       "      <td>9877.00</td>\n",
       "      <td>9570.00</td>\n",
       "      <td>9772.43</td>\n",
       "      <td>46024.001289</td>\n",
       "    </tr>\n",
       "    <tr>\n",
       "      <th>3</th>\n",
       "      <td>2020-06-10</td>\n",
       "      <td>9772.44</td>\n",
       "      <td>9992.72</td>\n",
       "      <td>9704.18</td>\n",
       "      <td>9885.00</td>\n",
       "      <td>47130.762982</td>\n",
       "    </tr>\n",
       "    <tr>\n",
       "      <th>4</th>\n",
       "      <td>2020-06-11</td>\n",
       "      <td>9885.22</td>\n",
       "      <td>9964.00</td>\n",
       "      <td>9113.00</td>\n",
       "      <td>9280.40</td>\n",
       "      <td>94418.984730</td>\n",
       "    </tr>\n",
       "    <tr>\n",
       "      <th>...</th>\n",
       "      <td>...</td>\n",
       "      <td>...</td>\n",
       "      <td>...</td>\n",
       "      <td>...</td>\n",
       "      <td>...</td>\n",
       "      <td>...</td>\n",
       "    </tr>\n",
       "    <tr>\n",
       "      <th>361</th>\n",
       "      <td>2021-06-03</td>\n",
       "      <td>37568.68</td>\n",
       "      <td>39476.00</td>\n",
       "      <td>37170.00</td>\n",
       "      <td>39246.79</td>\n",
       "      <td>75889.106011</td>\n",
       "    </tr>\n",
       "    <tr>\n",
       "      <th>362</th>\n",
       "      <td>2021-06-04</td>\n",
       "      <td>39246.78</td>\n",
       "      <td>39289.07</td>\n",
       "      <td>35555.15</td>\n",
       "      <td>36829.00</td>\n",
       "      <td>91317.799245</td>\n",
       "    </tr>\n",
       "    <tr>\n",
       "      <th>363</th>\n",
       "      <td>2021-06-05</td>\n",
       "      <td>36829.15</td>\n",
       "      <td>37925.00</td>\n",
       "      <td>34800.00</td>\n",
       "      <td>35513.20</td>\n",
       "      <td>70459.621490</td>\n",
       "    </tr>\n",
       "    <tr>\n",
       "      <th>364</th>\n",
       "      <td>2021-06-06</td>\n",
       "      <td>35516.07</td>\n",
       "      <td>36480.00</td>\n",
       "      <td>35222.00</td>\n",
       "      <td>35796.31</td>\n",
       "      <td>47650.206637</td>\n",
       "    </tr>\n",
       "    <tr>\n",
       "      <th>365</th>\n",
       "      <td>2021-06-07</td>\n",
       "      <td>35796.31</td>\n",
       "      <td>36900.00</td>\n",
       "      <td>35498.62</td>\n",
       "      <td>36511.04</td>\n",
       "      <td>33726.234927</td>\n",
       "    </tr>\n",
       "  </tbody>\n",
       "</table>\n",
       "<p>366 rows × 6 columns</p>\n",
       "</div>"
      ],
      "text/plain": [
       "      timestamp      open      high       low     close        volume\n",
       "0    2020-06-07   9666.85   9802.00   9372.46   9746.99  57952.848385\n",
       "1    2020-06-08   9746.99   9800.00   9633.00   9782.01  40664.664125\n",
       "2    2020-06-09   9782.00   9877.00   9570.00   9772.43  46024.001289\n",
       "3    2020-06-10   9772.44   9992.72   9704.18   9885.00  47130.762982\n",
       "4    2020-06-11   9885.22   9964.00   9113.00   9280.40  94418.984730\n",
       "..          ...       ...       ...       ...       ...           ...\n",
       "361  2021-06-03  37568.68  39476.00  37170.00  39246.79  75889.106011\n",
       "362  2021-06-04  39246.78  39289.07  35555.15  36829.00  91317.799245\n",
       "363  2021-06-05  36829.15  37925.00  34800.00  35513.20  70459.621490\n",
       "364  2021-06-06  35516.07  36480.00  35222.00  35796.31  47650.206637\n",
       "365  2021-06-07  35796.31  36900.00  35498.62  36511.04  33726.234927\n",
       "\n",
       "[366 rows x 6 columns]"
      ]
     },
     "execution_count": 12,
     "metadata": {},
     "output_type": "execute_result"
    }
   ],
   "source": [
    "time = \"1d\"\n",
    "df = pd.read_csv(f\"BTCUSDT-{time}-data.csv\")\n",
    "df = df.drop([\"quote_av\", \"trades\", \"tb_base_av\", \"tb_quote_av\", \"ignore\", \"close_time\"], axis=1)\n",
    "df"
   ]
  },
  {
   "cell_type": "markdown",
   "metadata": {},
   "source": [
    "# Saving"
   ]
  },
  {
   "cell_type": "code",
   "execution_count": 13,
   "metadata": {},
   "outputs": [
    {
     "name": "stdout",
     "output_type": "stream",
     "text": [
      "52/366\n"
     ]
    }
   ],
   "source": [
    "n = len(df)\n",
    "split = int(n/7)\n",
    "print(f\"{split}/{n}\")"
   ]
  },
  {
   "cell_type": "code",
   "execution_count": 14,
   "metadata": {},
   "outputs": [],
   "source": [
    "df.iloc[:split,:].to_csv(f\"../data/train{time}.csv\", index=False)\n",
    "df.iloc[split:,:].to_csv(f\"../data/test{time}.csv\", index=False)"
   ]
  },
  {
   "cell_type": "code",
   "execution_count": null,
   "metadata": {},
   "outputs": [],
   "source": []
  }
 ],
 "metadata": {
  "kernelspec": {
   "display_name": "Python 3",
   "language": "python",
   "name": "python3"
  },
  "language_info": {
   "codemirror_mode": {
    "name": "ipython",
    "version": 3
   },
   "file_extension": ".py",
   "mimetype": "text/x-python",
   "name": "python",
   "nbconvert_exporter": "python",
   "pygments_lexer": "ipython3",
   "version": "3.8.5"
  },
  "varInspector": {
   "cols": {
    "lenName": 16,
    "lenType": 16,
    "lenVar": 40
   },
   "kernels_config": {
    "python": {
     "delete_cmd_postfix": "",
     "delete_cmd_prefix": "del ",
     "library": "var_list.py",
     "varRefreshCmd": "print(var_dic_list())"
    },
    "r": {
     "delete_cmd_postfix": ") ",
     "delete_cmd_prefix": "rm(",
     "library": "var_list.r",
     "varRefreshCmd": "cat(var_dic_list()) "
    }
   },
   "types_to_exclude": [
    "module",
    "function",
    "builtin_function_or_method",
    "instance",
    "_Feature"
   ],
   "window_display": false
  }
 },
 "nbformat": 4,
 "nbformat_minor": 2
}
