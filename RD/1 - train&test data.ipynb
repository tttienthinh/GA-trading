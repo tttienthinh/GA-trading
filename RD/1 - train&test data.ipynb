{
 "cells": [
  {
   "cell_type": "code",
   "execution_count": 72,
   "metadata": {},
   "outputs": [],
   "source": [
    "import pandas as pd\n",
    "import math\n",
    "import os\n",
    "import time\n",
    "from binance.client import Client\n",
    "\n",
    "from datetime import datetime, timedelta\n",
    "\n",
    "from ta import add_all_ta_features\n",
    "from ta.utils import dropna"
   ]
  },
  {
   "cell_type": "code",
   "execution_count": 14,
   "metadata": {},
   "outputs": [
    {
     "data": {
      "text/html": [
       "<div>\n",
       "<style scoped>\n",
       "    .dataframe tbody tr th:only-of-type {\n",
       "        vertical-align: middle;\n",
       "    }\n",
       "\n",
       "    .dataframe tbody tr th {\n",
       "        vertical-align: top;\n",
       "    }\n",
       "\n",
       "    .dataframe thead th {\n",
       "        text-align: right;\n",
       "    }\n",
       "</style>\n",
       "<table border=\"1\" class=\"dataframe\">\n",
       "  <thead>\n",
       "    <tr style=\"text-align: right;\">\n",
       "      <th></th>\n",
       "      <th>unix</th>\n",
       "      <th>date</th>\n",
       "      <th>symbol</th>\n",
       "      <th>open</th>\n",
       "      <th>high</th>\n",
       "      <th>low</th>\n",
       "      <th>close</th>\n",
       "      <th>Volume BTC</th>\n",
       "      <th>Volume USDT</th>\n",
       "      <th>tradecount</th>\n",
       "    </tr>\n",
       "  </thead>\n",
       "  <tbody>\n",
       "    <tr>\n",
       "      <th>0</th>\n",
       "      <td>1615593960000</td>\n",
       "      <td>2021-03-13 00:06:00</td>\n",
       "      <td>BTC/USDT</td>\n",
       "      <td>56896.00</td>\n",
       "      <td>56944.56</td>\n",
       "      <td>56891.65</td>\n",
       "      <td>56939.64</td>\n",
       "      <td>20.650365</td>\n",
       "      <td>1.175508e+06</td>\n",
       "      <td>868</td>\n",
       "    </tr>\n",
       "    <tr>\n",
       "      <th>1</th>\n",
       "      <td>1615593900000</td>\n",
       "      <td>2021-03-13 00:05:00</td>\n",
       "      <td>BTC/USDT</td>\n",
       "      <td>56816.52</td>\n",
       "      <td>56920.00</td>\n",
       "      <td>56813.33</td>\n",
       "      <td>56895.99</td>\n",
       "      <td>78.521451</td>\n",
       "      <td>4.465809e+06</td>\n",
       "      <td>2091</td>\n",
       "    </tr>\n",
       "    <tr>\n",
       "      <th>2</th>\n",
       "      <td>1615593840000</td>\n",
       "      <td>2021-03-13 00:04:00</td>\n",
       "      <td>BTC/USDT</td>\n",
       "      <td>56843.61</td>\n",
       "      <td>56903.18</td>\n",
       "      <td>56756.09</td>\n",
       "      <td>56816.51</td>\n",
       "      <td>50.932357</td>\n",
       "      <td>2.894269e+06</td>\n",
       "      <td>1683</td>\n",
       "    </tr>\n",
       "    <tr>\n",
       "      <th>3</th>\n",
       "      <td>1615593780000</td>\n",
       "      <td>2021-03-13 00:03:00</td>\n",
       "      <td>BTC/USDT</td>\n",
       "      <td>56968.92</td>\n",
       "      <td>56991.11</td>\n",
       "      <td>56758.68</td>\n",
       "      <td>56843.60</td>\n",
       "      <td>91.443734</td>\n",
       "      <td>5.198313e+06</td>\n",
       "      <td>2588</td>\n",
       "    </tr>\n",
       "    <tr>\n",
       "      <th>4</th>\n",
       "      <td>1615593720000</td>\n",
       "      <td>2021-03-13 00:02:00</td>\n",
       "      <td>BTC/USDT</td>\n",
       "      <td>56961.36</td>\n",
       "      <td>57017.69</td>\n",
       "      <td>56804.33</td>\n",
       "      <td>56968.92</td>\n",
       "      <td>125.218754</td>\n",
       "      <td>7.126979e+06</td>\n",
       "      <td>3313</td>\n",
       "    </tr>\n",
       "    <tr>\n",
       "      <th>...</th>\n",
       "      <td>...</td>\n",
       "      <td>...</td>\n",
       "      <td>...</td>\n",
       "      <td>...</td>\n",
       "      <td>...</td>\n",
       "      <td>...</td>\n",
       "      <td>...</td>\n",
       "      <td>...</td>\n",
       "      <td>...</td>\n",
       "      <td>...</td>\n",
       "    </tr>\n",
       "    <tr>\n",
       "      <th>261763</th>\n",
       "      <td>1599857040000</td>\n",
       "      <td>2020-09-11 20:44:00</td>\n",
       "      <td>BTC/USDT</td>\n",
       "      <td>10318.99</td>\n",
       "      <td>10319.72</td>\n",
       "      <td>10316.58</td>\n",
       "      <td>10319.47</td>\n",
       "      <td>14.466964</td>\n",
       "      <td>1.492667e+05</td>\n",
       "      <td>284</td>\n",
       "    </tr>\n",
       "    <tr>\n",
       "      <th>261764</th>\n",
       "      <td>1599856980000</td>\n",
       "      <td>2020-09-11 20:43:00</td>\n",
       "      <td>BTC/USDT</td>\n",
       "      <td>10319.34</td>\n",
       "      <td>10320.14</td>\n",
       "      <td>10318.89</td>\n",
       "      <td>10319.00</td>\n",
       "      <td>13.548103</td>\n",
       "      <td>1.398070e+05</td>\n",
       "      <td>187</td>\n",
       "    </tr>\n",
       "    <tr>\n",
       "      <th>261765</th>\n",
       "      <td>1599856920000</td>\n",
       "      <td>2020-09-11 20:42:00</td>\n",
       "      <td>BTC/USDT</td>\n",
       "      <td>10319.50</td>\n",
       "      <td>10320.31</td>\n",
       "      <td>10318.49</td>\n",
       "      <td>10319.34</td>\n",
       "      <td>12.123487</td>\n",
       "      <td>1.251089e+05</td>\n",
       "      <td>193</td>\n",
       "    </tr>\n",
       "    <tr>\n",
       "      <th>261766</th>\n",
       "      <td>1599856860000</td>\n",
       "      <td>2020-09-11 20:41:00</td>\n",
       "      <td>BTC/USDT</td>\n",
       "      <td>10316.00</td>\n",
       "      <td>10321.09</td>\n",
       "      <td>10316.00</td>\n",
       "      <td>10319.50</td>\n",
       "      <td>16.328427</td>\n",
       "      <td>1.684977e+05</td>\n",
       "      <td>256</td>\n",
       "    </tr>\n",
       "    <tr>\n",
       "      <th>261767</th>\n",
       "      <td>1599856800000</td>\n",
       "      <td>2020-09-11 20:40:00</td>\n",
       "      <td>BTC/USDT</td>\n",
       "      <td>10317.00</td>\n",
       "      <td>10317.01</td>\n",
       "      <td>10314.36</td>\n",
       "      <td>10316.00</td>\n",
       "      <td>32.997684</td>\n",
       "      <td>3.403985e+05</td>\n",
       "      <td>342</td>\n",
       "    </tr>\n",
       "  </tbody>\n",
       "</table>\n",
       "<p>261768 rows × 10 columns</p>\n",
       "</div>"
      ],
      "text/plain": [
       "                 unix                 date    symbol      open      high  \\\n",
       "0       1615593960000  2021-03-13 00:06:00  BTC/USDT  56896.00  56944.56   \n",
       "1       1615593900000  2021-03-13 00:05:00  BTC/USDT  56816.52  56920.00   \n",
       "2       1615593840000  2021-03-13 00:04:00  BTC/USDT  56843.61  56903.18   \n",
       "3       1615593780000  2021-03-13 00:03:00  BTC/USDT  56968.92  56991.11   \n",
       "4       1615593720000  2021-03-13 00:02:00  BTC/USDT  56961.36  57017.69   \n",
       "...               ...                  ...       ...       ...       ...   \n",
       "261763  1599857040000  2020-09-11 20:44:00  BTC/USDT  10318.99  10319.72   \n",
       "261764  1599856980000  2020-09-11 20:43:00  BTC/USDT  10319.34  10320.14   \n",
       "261765  1599856920000  2020-09-11 20:42:00  BTC/USDT  10319.50  10320.31   \n",
       "261766  1599856860000  2020-09-11 20:41:00  BTC/USDT  10316.00  10321.09   \n",
       "261767  1599856800000  2020-09-11 20:40:00  BTC/USDT  10317.00  10317.01   \n",
       "\n",
       "             low     close  Volume BTC   Volume USDT  tradecount  \n",
       "0       56891.65  56939.64   20.650365  1.175508e+06         868  \n",
       "1       56813.33  56895.99   78.521451  4.465809e+06        2091  \n",
       "2       56756.09  56816.51   50.932357  2.894269e+06        1683  \n",
       "3       56758.68  56843.60   91.443734  5.198313e+06        2588  \n",
       "4       56804.33  56968.92  125.218754  7.126979e+06        3313  \n",
       "...          ...       ...         ...           ...         ...  \n",
       "261763  10316.58  10319.47   14.466964  1.492667e+05         284  \n",
       "261764  10318.89  10319.00   13.548103  1.398070e+05         187  \n",
       "261765  10318.49  10319.34   12.123487  1.251089e+05         193  \n",
       "261766  10316.00  10319.50   16.328427  1.684977e+05         256  \n",
       "261767  10314.36  10316.00   32.997684  3.403985e+05         342  \n",
       "\n",
       "[261768 rows x 10 columns]"
      ]
     },
     "execution_count": 14,
     "metadata": {},
     "output_type": "execute_result"
    }
   ],
   "source": [
    "df = pd.read_csv(\"data/Binance_BTCUSDT_minute.csv\", names=['unix', 'date', 'symbol', 'open', 'high', 'low', 'close', 'Volume BTC', 'Volume USDT', 'tradecount']\n",
    ",)\n",
    "\n",
    "# Are they the same?\n",
    "df"
   ]
  },
  {
   "cell_type": "code",
   "execution_count": 18,
   "metadata": {},
   "outputs": [],
   "source": [
    "df = df.drop(['unix', 'symbol', 'tradecount'], axis=1)"
   ]
  },
  {
   "cell_type": "markdown",
   "metadata": {},
   "source": [
    "unix,date,symbol,open,high,low,close,Volume BTC,Volume USDT,tradecount"
   ]
  },
  {
   "cell_type": "code",
   "execution_count": 21,
   "metadata": {
    "scrolled": true
   },
   "outputs": [
    {
     "ename": "NameError",
     "evalue": "name 'data' is not defined",
     "output_type": "error",
     "traceback": [
      "\u001b[0;31m---------------------------------------------------------------------------\u001b[0m",
      "\u001b[0;31mNameError\u001b[0m                                 Traceback (most recent call last)",
      "\u001b[0;32m<ipython-input-21-ce1322c21b25>\u001b[0m in \u001b[0;36m<module>\u001b[0;34m\u001b[0m\n\u001b[0;32m----> 1\u001b[0;31m \u001b[0mdata\u001b[0m\u001b[0;34m.\u001b[0m\u001b[0miloc\u001b[0m\u001b[0;34m[\u001b[0m\u001b[0;34m:\u001b[0m\u001b[0;34m:\u001b[0m\u001b[0;34m-\u001b[0m\u001b[0;36m1\u001b[0m\u001b[0;34m]\u001b[0m\u001b[0;34m\u001b[0m\u001b[0;34m\u001b[0m\u001b[0m\n\u001b[0m",
      "\u001b[0;31mNameError\u001b[0m: name 'data' is not defined"
     ]
    }
   ],
   "source": [
    "data.iloc[::-1]"
   ]
  },
  {
   "cell_type": "code",
   "execution_count": 32,
   "metadata": {
    "scrolled": false
   },
   "outputs": [
    {
     "data": {
      "text/html": [
       "<div>\n",
       "<style scoped>\n",
       "    .dataframe tbody tr th:only-of-type {\n",
       "        vertical-align: middle;\n",
       "    }\n",
       "\n",
       "    .dataframe tbody tr th {\n",
       "        vertical-align: top;\n",
       "    }\n",
       "\n",
       "    .dataframe thead th {\n",
       "        text-align: right;\n",
       "    }\n",
       "</style>\n",
       "<table border=\"1\" class=\"dataframe\">\n",
       "  <thead>\n",
       "    <tr style=\"text-align: right;\">\n",
       "      <th></th>\n",
       "      <th>date</th>\n",
       "      <th>open</th>\n",
       "      <th>high</th>\n",
       "      <th>low</th>\n",
       "      <th>close</th>\n",
       "      <th>Volume BTC</th>\n",
       "      <th>Volume USDT</th>\n",
       "    </tr>\n",
       "  </thead>\n",
       "  <tbody>\n",
       "    <tr>\n",
       "      <th>261767</th>\n",
       "      <td>2020-09-11 20:40:00</td>\n",
       "      <td>10317.00</td>\n",
       "      <td>10317.01</td>\n",
       "      <td>10314.36</td>\n",
       "      <td>10316.00</td>\n",
       "      <td>32.997684</td>\n",
       "      <td>3.403985e+05</td>\n",
       "    </tr>\n",
       "    <tr>\n",
       "      <th>261766</th>\n",
       "      <td>2020-09-11 20:41:00</td>\n",
       "      <td>10316.00</td>\n",
       "      <td>10321.09</td>\n",
       "      <td>10316.00</td>\n",
       "      <td>10319.50</td>\n",
       "      <td>16.328427</td>\n",
       "      <td>1.684977e+05</td>\n",
       "    </tr>\n",
       "    <tr>\n",
       "      <th>261765</th>\n",
       "      <td>2020-09-11 20:42:00</td>\n",
       "      <td>10319.50</td>\n",
       "      <td>10320.31</td>\n",
       "      <td>10318.49</td>\n",
       "      <td>10319.34</td>\n",
       "      <td>12.123487</td>\n",
       "      <td>1.251089e+05</td>\n",
       "    </tr>\n",
       "    <tr>\n",
       "      <th>261764</th>\n",
       "      <td>2020-09-11 20:43:00</td>\n",
       "      <td>10319.34</td>\n",
       "      <td>10320.14</td>\n",
       "      <td>10318.89</td>\n",
       "      <td>10319.00</td>\n",
       "      <td>13.548103</td>\n",
       "      <td>1.398070e+05</td>\n",
       "    </tr>\n",
       "    <tr>\n",
       "      <th>261763</th>\n",
       "      <td>2020-09-11 20:44:00</td>\n",
       "      <td>10318.99</td>\n",
       "      <td>10319.72</td>\n",
       "      <td>10316.58</td>\n",
       "      <td>10319.47</td>\n",
       "      <td>14.466964</td>\n",
       "      <td>1.492667e+05</td>\n",
       "    </tr>\n",
       "    <tr>\n",
       "      <th>...</th>\n",
       "      <td>...</td>\n",
       "      <td>...</td>\n",
       "      <td>...</td>\n",
       "      <td>...</td>\n",
       "      <td>...</td>\n",
       "      <td>...</td>\n",
       "      <td>...</td>\n",
       "    </tr>\n",
       "    <tr>\n",
       "      <th>4</th>\n",
       "      <td>2021-03-13 00:02:00</td>\n",
       "      <td>56961.36</td>\n",
       "      <td>57017.69</td>\n",
       "      <td>56804.33</td>\n",
       "      <td>56968.92</td>\n",
       "      <td>125.218754</td>\n",
       "      <td>7.126979e+06</td>\n",
       "    </tr>\n",
       "    <tr>\n",
       "      <th>3</th>\n",
       "      <td>2021-03-13 00:03:00</td>\n",
       "      <td>56968.92</td>\n",
       "      <td>56991.11</td>\n",
       "      <td>56758.68</td>\n",
       "      <td>56843.60</td>\n",
       "      <td>91.443734</td>\n",
       "      <td>5.198313e+06</td>\n",
       "    </tr>\n",
       "    <tr>\n",
       "      <th>2</th>\n",
       "      <td>2021-03-13 00:04:00</td>\n",
       "      <td>56843.61</td>\n",
       "      <td>56903.18</td>\n",
       "      <td>56756.09</td>\n",
       "      <td>56816.51</td>\n",
       "      <td>50.932357</td>\n",
       "      <td>2.894269e+06</td>\n",
       "    </tr>\n",
       "    <tr>\n",
       "      <th>1</th>\n",
       "      <td>2021-03-13 00:05:00</td>\n",
       "      <td>56816.52</td>\n",
       "      <td>56920.00</td>\n",
       "      <td>56813.33</td>\n",
       "      <td>56895.99</td>\n",
       "      <td>78.521451</td>\n",
       "      <td>4.465809e+06</td>\n",
       "    </tr>\n",
       "    <tr>\n",
       "      <th>0</th>\n",
       "      <td>2021-03-13 00:06:00</td>\n",
       "      <td>56896.00</td>\n",
       "      <td>56944.56</td>\n",
       "      <td>56891.65</td>\n",
       "      <td>56939.64</td>\n",
       "      <td>20.650365</td>\n",
       "      <td>1.175508e+06</td>\n",
       "    </tr>\n",
       "  </tbody>\n",
       "</table>\n",
       "<p>261768 rows × 7 columns</p>\n",
       "</div>"
      ],
      "text/plain": [
       "                       date      open      high       low     close  \\\n",
       "261767  2020-09-11 20:40:00  10317.00  10317.01  10314.36  10316.00   \n",
       "261766  2020-09-11 20:41:00  10316.00  10321.09  10316.00  10319.50   \n",
       "261765  2020-09-11 20:42:00  10319.50  10320.31  10318.49  10319.34   \n",
       "261764  2020-09-11 20:43:00  10319.34  10320.14  10318.89  10319.00   \n",
       "261763  2020-09-11 20:44:00  10318.99  10319.72  10316.58  10319.47   \n",
       "...                     ...       ...       ...       ...       ...   \n",
       "4       2021-03-13 00:02:00  56961.36  57017.69  56804.33  56968.92   \n",
       "3       2021-03-13 00:03:00  56968.92  56991.11  56758.68  56843.60   \n",
       "2       2021-03-13 00:04:00  56843.61  56903.18  56756.09  56816.51   \n",
       "1       2021-03-13 00:05:00  56816.52  56920.00  56813.33  56895.99   \n",
       "0       2021-03-13 00:06:00  56896.00  56944.56  56891.65  56939.64   \n",
       "\n",
       "        Volume BTC   Volume USDT  \n",
       "261767   32.997684  3.403985e+05  \n",
       "261766   16.328427  1.684977e+05  \n",
       "261765   12.123487  1.251089e+05  \n",
       "261764   13.548103  1.398070e+05  \n",
       "261763   14.466964  1.492667e+05  \n",
       "...            ...           ...  \n",
       "4       125.218754  7.126979e+06  \n",
       "3        91.443734  5.198313e+06  \n",
       "2        50.932357  2.894269e+06  \n",
       "1        78.521451  4.465809e+06  \n",
       "0        20.650365  1.175508e+06  \n",
       "\n",
       "[261768 rows x 7 columns]"
      ]
     },
     "execution_count": 32,
     "metadata": {},
     "output_type": "execute_result"
    }
   ],
   "source": [
    "df = df.iloc[::-1, :]\n",
    "df"
   ]
  },
  {
   "cell_type": "code",
   "execution_count": 59,
   "metadata": {
    "scrolled": false
   },
   "outputs": [
    {
     "name": "stderr",
     "output_type": "stream",
     "text": [
      "<ipython-input-59-f990fe4d8da0>:1: SettingWithCopyWarning: \n",
      "A value is trying to be set on a copy of a slice from a DataFrame.\n",
      "Try using .loc[row_indexer,col_indexer] = value instead\n",
      "\n",
      "See the caveats in the documentation: https://pandas.pydata.org/pandas-docs/stable/user_guide/indexing.html#returning-a-view-versus-a-copy\n",
      "  df['Volume'] = df['Volume BTC'] *0\n"
     ]
    }
   ],
   "source": [
    "df['Volume'] = df['Volume BTC'] *0"
   ]
  },
  {
   "cell_type": "code",
   "execution_count": 61,
   "metadata": {},
   "outputs": [],
   "source": [
    "df = df.drop(['Volume BTC', 'Volume USDT'], axis=1)"
   ]
  },
  {
   "cell_type": "code",
   "execution_count": 70,
   "metadata": {},
   "outputs": [],
   "source": [
    "df.iloc[-17197:-2887,:].to_csv(\"data/test.csv\", index=False, header=False)"
   ]
  },
  {
   "cell_type": "code",
   "execution_count": 71,
   "metadata": {},
   "outputs": [],
   "source": [
    "df.iloc[-102_078:-17197,:].to_csv(\"data/train.csv\", index=False, header=False)"
   ]
  },
  {
   "cell_type": "code",
   "execution_count": 52,
   "metadata": {},
   "outputs": [
    {
     "data": {
      "text/plain": [
       "Index(['date', 'open', 'high', 'low', 'close', 'Volume BTC', 'Volume USDT'], dtype='object')"
      ]
     },
     "execution_count": 52,
     "metadata": {},
     "output_type": "execute_result"
    }
   ],
   "source": [
    "df.columns"
   ]
  },
  {
   "cell_type": "code",
   "execution_count": 56,
   "metadata": {},
   "outputs": [
    {
     "data": {
      "text/plain": [
       "104698421.86792725"
      ]
     },
     "execution_count": 56,
     "metadata": {},
     "output_type": "execute_result"
    }
   ],
   "source": [
    "max(df['Volume USDT'])"
   ]
  },
  {
   "cell_type": "code",
   "execution_count": 57,
   "metadata": {},
   "outputs": [
    {
     "data": {
      "text/plain": [
       "0.0"
      ]
     },
     "execution_count": 57,
     "metadata": {},
     "output_type": "execute_result"
    }
   ],
   "source": [
    "min(df['Volume USDT'])"
   ]
  },
  {
   "cell_type": "code",
   "execution_count": null,
   "metadata": {},
   "outputs": [],
   "source": []
  }
 ],
 "metadata": {
  "kernelspec": {
   "display_name": "Scientist",
   "language": "python",
   "name": "scientist"
  },
  "language_info": {
   "codemirror_mode": {
    "name": "ipython",
    "version": 3
   },
   "file_extension": ".py",
   "mimetype": "text/x-python",
   "name": "python",
   "nbconvert_exporter": "python",
   "pygments_lexer": "ipython3",
   "version": "3.8.5"
  },
  "varInspector": {
   "cols": {
    "lenName": 16,
    "lenType": 16,
    "lenVar": 40
   },
   "kernels_config": {
    "python": {
     "delete_cmd_postfix": "",
     "delete_cmd_prefix": "del ",
     "library": "var_list.py",
     "varRefreshCmd": "print(var_dic_list())"
    },
    "r": {
     "delete_cmd_postfix": ") ",
     "delete_cmd_prefix": "rm(",
     "library": "var_list.r",
     "varRefreshCmd": "cat(var_dic_list()) "
    }
   },
   "types_to_exclude": [
    "module",
    "function",
    "builtin_function_or_method",
    "instance",
    "_Feature"
   ],
   "window_display": false
  }
 },
 "nbformat": 4,
 "nbformat_minor": 2
}
