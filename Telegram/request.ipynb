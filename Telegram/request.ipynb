{
 "cells": [
  {
   "cell_type": "code",
   "execution_count": 1,
   "id": "db354496",
   "metadata": {},
   "outputs": [],
   "source": [
    "\n",
    "import time\n",
    "import schedule\n",
    "import requests\n",
    "\n"
   ]
  },
  {
   "cell_type": "code",
   "execution_count": 7,
   "id": "57fe8cef",
   "metadata": {},
   "outputs": [],
   "source": [
    "\n",
    "def telegram_bot_sendtext(bot_message):\n",
    "    \n",
    "    bot_token = '1806732732:AAFxtjvhsucDPbOjBYSUzCNztqjntoI4Q-E'\n",
    "    bot_chatID = '-572290585'\n",
    "    send_text = 'https://api.telegram.org/bot' + bot_token + '/sendMessage?chat_id=' + bot_chatID + '&parse_mode=Markdown&text=' + bot_message\n",
    "\n",
    "    response = requests.get(send_text)\n",
    "\n",
    "    return response.json()\n"
   ]
  },
  {
   "cell_type": "code",
   "execution_count": 9,
   "id": "1ae0db92",
   "metadata": {},
   "outputs": [
    {
     "data": {
      "text/plain": [
       "{'ok': True,\n",
       " 'result': {'message_id': 10,\n",
       "  'from': {'id': 1806732732,\n",
       "   'is_bot': True,\n",
       "   'first_name': 'William Bot',\n",
       "   'username': 'WilliamTradingBot'},\n",
       "  'chat': {'id': -572290585,\n",
       "   'title': 'Bot Trading',\n",
       "   'type': 'group',\n",
       "   'all_members_are_administrators': True},\n",
       "  'date': 1623184847,\n",
       "  'text': 'Lucas \\nva \\napprendre \\nta \\ncolle'}}"
      ]
     },
     "execution_count": 9,
     "metadata": {},
     "output_type": "execute_result"
    }
   ],
   "source": [
    "telegram_bot_sendtext(\"Lucas \\nva \\napprendre \\nta \\ncolle\")"
   ]
  },
  {
   "cell_type": "code",
   "execution_count": null,
   "id": "f33209b5",
   "metadata": {},
   "outputs": [],
   "source": [
    "\n",
    "\n",
    "def report():\n",
    "    my_balance = 10   ## Replace this number with an API call to fetch your account balance\n",
    "    my_message = \"Current balance is: {}\".format(my_balance)   ## Customize your message\n",
    "    telegram_bot_sendtext(my_message)\n",
    "\n",
    "\n",
    "    \n",
    "schedule.every().day.at(\"12:00\").do(report)\n",
    "\n",
    "while True:\n",
    "    schedule.run_pending()\n",
    "    time.sleep(1)"
   ]
  }
 ],
 "metadata": {
  "kernelspec": {
   "display_name": "Python 3",
   "language": "python",
   "name": "python3"
  },
  "language_info": {
   "codemirror_mode": {
    "name": "ipython",
    "version": 3
   },
   "file_extension": ".py",
   "mimetype": "text/x-python",
   "name": "python",
   "nbconvert_exporter": "python",
   "pygments_lexer": "ipython3",
   "version": "3.7.3"
  }
 },
 "nbformat": 4,
 "nbformat_minor": 5
}
