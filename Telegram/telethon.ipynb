{
 "cells": [
  {
   "cell_type": "code",
   "execution_count": 1,
   "id": "086c9fe3",
   "metadata": {},
   "outputs": [],
   "source": [
    "import telebot\n",
    "from telethon.sync import TelegramClient\n",
    "from telethon.tl.types import InputPeerUser, InputPeerChannel\n",
    "from telethon import TelegramClient, sync, events"
   ]
  },
  {
   "cell_type": "code",
   "execution_count": 2,
   "id": "66da909e",
   "metadata": {},
   "outputs": [],
   "source": [
    "api_id = '5519977'\n",
    "api_hash = 'b2f1a6e3d02bd9b5078b06185c2ef714'\n",
    "token = '1806732732:AAFxtjvhsucDPbOjBYSUzCNztqjntoI4Q-E'\n",
    "message = \"Working...\""
   ]
  },
  {
   "cell_type": "code",
   "execution_count": 3,
   "id": "b50d44f3",
   "metadata": {},
   "outputs": [],
   "source": [
    "# your phone number\n",
    "phone = '+33651149098'"
   ]
  },
  {
   "cell_type": "code",
   "execution_count": 4,
   "id": "cfc797a7",
   "metadata": {},
   "outputs": [],
   "source": [
    "# creating a telegram session and assigning\n",
    "# it to a variable client\n",
    "client = TelegramClient('session', api_id, api_hash)"
   ]
  },
  {
   "cell_type": "code",
   "execution_count": 5,
   "id": "e5701c27",
   "metadata": {
    "scrolled": true
   },
   "outputs": [
    {
     "data": {
      "text/plain": [
       "<coroutine object TelegramBaseClient.connect at 0xefd678e8>"
      ]
     },
     "execution_count": 5,
     "metadata": {},
     "output_type": "execute_result"
    }
   ],
   "source": [
    "# connecting and building the session\n",
    "client.connect()"
   ]
  },
  {
   "cell_type": "code",
   "execution_count": 7,
   "id": "34b95b4e",
   "metadata": {},
   "outputs": [],
   "source": [
    "receiver = InputPeerUser('user_id', 'user_hash')"
   ]
  },
  {
   "cell_type": "code",
   "execution_count": 8,
   "id": "d6ea09e1",
   "metadata": {},
   "outputs": [
    {
     "data": {
      "text/plain": [
       "<coroutine object MessageMethods.send_message at 0xefd679c0>"
      ]
     },
     "execution_count": 8,
     "metadata": {},
     "output_type": "execute_result"
    }
   ],
   "source": [
    "client.send_message(receiver, message, parse_mode='html')"
   ]
  },
  {
   "cell_type": "code",
   "execution_count": 6,
   "id": "6ec09250",
   "metadata": {},
   "outputs": [
    {
     "data": {
      "text/plain": [
       "<coroutine object UserMethods.is_user_authorized at 0xefd67978>"
      ]
     },
     "execution_count": 6,
     "metadata": {},
     "output_type": "execute_result"
    }
   ],
   "source": [
    "client.is_user_authorized()"
   ]
  },
  {
   "cell_type": "code",
   "execution_count": 9,
   "id": "45905d7d",
   "metadata": {},
   "outputs": [
    {
     "data": {
      "text/plain": [
       "<coroutine object AuthMethods.send_code_request at 0xefd67a08>"
      ]
     },
     "execution_count": 9,
     "metadata": {},
     "output_type": "execute_result"
    }
   ],
   "source": [
    "client.send_code_request(phone)"
   ]
  },
  {
   "cell_type": "code",
   "execution_count": null,
   "id": "63ad7398",
   "metadata": {},
   "outputs": [],
   "source": []
  }
 ],
 "metadata": {
  "kernelspec": {
   "display_name": "Python 3",
   "language": "python",
   "name": "python3"
  },
  "language_info": {
   "codemirror_mode": {
    "name": "ipython",
    "version": 3
   },
   "file_extension": ".py",
   "mimetype": "text/x-python",
   "name": "python",
   "nbconvert_exporter": "python",
   "pygments_lexer": "ipython3",
   "version": "3.7.3"
  }
 },
 "nbformat": 4,
 "nbformat_minor": 5
}
