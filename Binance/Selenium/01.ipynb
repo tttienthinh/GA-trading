{
 "cells": [
  {
   "cell_type": "code",
   "execution_count": 201,
   "metadata": {},
   "outputs": [],
   "source": [
    "from selenium import webdriver\n",
    "from selenium.webdriver.common.keys import Keys\n",
    "import json, pickle, os"
   ]
  },
  {
   "cell_type": "code",
   "execution_count": 209,
   "metadata": {},
   "outputs": [],
   "source": [
    "os.mkdir(\"test\")"
   ]
  },
  {
   "cell_type": "code",
   "execution_count": 7,
   "metadata": {},
   "outputs": [],
   "source": [
    "path = \"/home/tttienthinh/Documents/Programmation/Bash/StartupApp/driver/chromedriver91\""
   ]
  },
  {
   "cell_type": "code",
   "execution_count": 192,
   "metadata": {},
   "outputs": [],
   "source": [
    "# Connection\n",
    "driver = webdriver.Chrome(executable_path=path)\n",
    "driver.get(\"https://accounts.binance.com/en/login\")"
   ]
  },
  {
   "cell_type": "code",
   "execution_count": 196,
   "metadata": {
    "scrolled": true
   },
   "outputs": [
    {
     "name": "stdout",
     "output_type": "stream",
     "text": [
      "{'domain': 'www.binance.com', 'httpOnly': True, 'name': 'p20t', 'path': '/', 'sameSite': 'Lax', 'secure': True, 'value': 'web.75681012.F7D395C47C97751F15ABBA50BCF66704'}\n"
     ]
    }
   ],
   "source": [
    "cookies = pickle.load(open(\"cookies.pkl\", \"rb\"))\n",
    "for cookie in cookies: \n",
    "    try:\n",
    "        driver.add_cookie(cookie)\n",
    "    except:\n",
    "        print(cookie)"
   ]
  },
  {
   "cell_type": "code",
   "execution_count": 191,
   "metadata": {},
   "outputs": [],
   "source": [
    "# pickle.dump( driver.get_cookies() , open(\"cookies.pkl\",\"wb\"))"
   ]
  },
  {
   "cell_type": "code",
   "execution_count": 200,
   "metadata": {},
   "outputs": [
    {
     "data": {
      "text/plain": [
       "['tranthuongtienthinh', 'gmail.com']"
      ]
     },
     "execution_count": 200,
     "metadata": {},
     "output_type": "execute_result"
    }
   ],
   "source": [
    "\"tranthuongtienthinh@gmail.com\".split(\"@\")"
   ]
  },
  {
   "cell_type": "code",
   "execution_count": 197,
   "metadata": {},
   "outputs": [],
   "source": [
    "# fill forms\n",
    "driver.find_element_by_name(\"email\").send_keys(\"tranthuongtienthinh@gmail.com\")\n",
    "driver.find_element_by_name(\"password\").send_keys(\"iae!NICE150402\")"
   ]
  },
  {
   "cell_type": "code",
   "execution_count": 198,
   "metadata": {},
   "outputs": [],
   "source": [
    "# click connection\n",
    "driver.find_element_by_id(\"click_login_submit\").click()"
   ]
  },
  {
   "cell_type": "code",
   "execution_count": 199,
   "metadata": {},
   "outputs": [],
   "source": [
    "# get future\n",
    "driver.get(\"https://www.binance.com/en/futures/BTCUSDT\")"
   ]
  },
  {
   "cell_type": "code",
   "execution_count": 162,
   "metadata": {},
   "outputs": [
    {
     "data": {
      "text/plain": [
       "[{'domain': '.binance.com',\n",
       "  'expiry': 1656360096,\n",
       "  'httpOnly': False,\n",
       "  'name': 'fiat-prefer-currency',\n",
       "  'path': '/',\n",
       "  'secure': False,\n",
       "  'value': 'EUR'},\n",
       " {'domain': '.binance.com',\n",
       "  'expiry': 7932024095,\n",
       "  'httpOnly': False,\n",
       "  'name': 'sensorsdata2015jssdkcross',\n",
       "  'path': '/',\n",
       "  'secure': False,\n",
       "  'value': '%7B%22distinct_id%22%3A%2275681012%22%2C%22first_id%22%3A%2217a4f0ece998e-05860216263afc-3c700c58-2073600-17a4f0ece9a803%22%2C%22props%22%3A%7B%22%24latest_traffic_source_type%22%3A%22%E7%9B%B4%E6%8E%A5%E6%B5%81%E9%87%8F%22%2C%22%24latest_search_keyword%22%3A%22%E6%9C%AA%E5%8F%96%E5%88%B0%E5%80%BC_%E7%9B%B4%E6%8E%A5%E6%89%93%E5%BC%80%22%2C%22%24latest_referrer%22%3A%22%22%7D%2C%22%24device_id%22%3A%2217a4f0ece998e-05860216263afc-3c700c58-2073600-17a4f0ece9a803%22%7D'},\n",
       " {'domain': '.binance.com',\n",
       "  'expiry': 1656360094,\n",
       "  'httpOnly': False,\n",
       "  'name': 'campaign',\n",
       "  'path': '/',\n",
       "  'secure': False,\n",
       "  'value': 'accounts.binance.com'},\n",
       " {'domain': '.binance.com',\n",
       "  'expiry': 1656360094,\n",
       "  'httpOnly': False,\n",
       "  'name': 'source',\n",
       "  'path': '/',\n",
       "  'secure': False,\n",
       "  'value': 'referral'},\n",
       " {'domain': '.binance.com',\n",
       "  'expiry': 1625428890,\n",
       "  'httpOnly': False,\n",
       "  'name': 'logined',\n",
       "  'path': '/',\n",
       "  'secure': False,\n",
       "  'value': 'y'},\n",
       " {'domain': '.binance.com',\n",
       "  'expiry': 1656360090,\n",
       "  'httpOnly': False,\n",
       "  'name': 'lang',\n",
       "  'path': '/',\n",
       "  'secure': False,\n",
       "  'value': 'en'},\n",
       " {'domain': '.binance.com',\n",
       "  'httpOnly': False,\n",
       "  'name': 'cr00',\n",
       "  'path': '/',\n",
       "  'sameSite': 'Lax',\n",
       "  'secure': True,\n",
       "  'value': 'E0BC0874DCD896B326C5427AE9431CD7'},\n",
       " {'domain': '.binance.com',\n",
       "  'expiry': 1624825808,\n",
       "  'httpOnly': True,\n",
       "  'name': 'gtId',\n",
       "  'path': '/',\n",
       "  'sameSite': 'Lax',\n",
       "  'secure': True,\n",
       "  'value': '973ab715-5179-4bc5-8c67-8dacbbef5dc8'},\n",
       " {'domain': '.binance.com',\n",
       "  'httpOnly': True,\n",
       "  'name': 's9r1',\n",
       "  'path': '/',\n",
       "  'sameSite': 'Lax',\n",
       "  'secure': True,\n",
       "  'value': '1E1464C6C76A668C2D7B3878D63C1EC3'},\n",
       " {'domain': '.binance.com',\n",
       "  'httpOnly': True,\n",
       "  'name': 'f30l',\n",
       "  'path': '/',\n",
       "  'sameSite': 'Lax',\n",
       "  'secure': True,\n",
       "  'value': 'web.75681012.5BEA2F75D04CE3C726AE95085B6E747B'},\n",
       " {'domain': '.binance.com',\n",
       "  'expiry': 1656360010,\n",
       "  'httpOnly': False,\n",
       "  'name': 'BNC_FV_KEY_EXPIRE',\n",
       "  'path': '/',\n",
       "  'secure': False,\n",
       "  'value': '1624910410255'},\n",
       " {'domain': '.binance.com',\n",
       "  'expiry': 1624910410,\n",
       "  'httpOnly': False,\n",
       "  'name': 'BNC_FV_KEY',\n",
       "  'path': '/',\n",
       "  'secure': False,\n",
       "  'value': '31e71066973fa17880a150930d708f9c23dd51e0'},\n",
       " {'domain': '.binance.com',\n",
       "  'expiry': 1687896006,\n",
       "  'httpOnly': False,\n",
       "  'name': '_ga',\n",
       "  'path': '/',\n",
       "  'secure': False,\n",
       "  'value': 'GA1.2.619363435.1624824007'},\n",
       " {'domain': '.binance.com',\n",
       "  'expiry': 1656360095,\n",
       "  'httpOnly': False,\n",
       "  'name': 'userPreferredCurrency',\n",
       "  'path': '/',\n",
       "  'secure': False,\n",
       "  'value': 'USD_USD'},\n",
       " {'domain': '.binance.com',\n",
       "  'expiry': 1625428890,\n",
       "  'httpOnly': False,\n",
       "  'name': 'isAccountsLoggedIn',\n",
       "  'path': '/',\n",
       "  'secure': False,\n",
       "  'value': 'y'},\n",
       " {'domain': '.binance.com',\n",
       "  'expiry': 1624831199,\n",
       "  'httpOnly': False,\n",
       "  'name': 'sajssdk_2015_cross_new_user',\n",
       "  'path': '/',\n",
       "  'secure': False,\n",
       "  'value': '1'},\n",
       " {'domain': '.binance.com',\n",
       "  'expiry': 1782504007,\n",
       "  'httpOnly': False,\n",
       "  'name': 'bnc-uuid',\n",
       "  'path': '/',\n",
       "  'secure': False,\n",
       "  'value': 'ac09ec72-11d6-4f85-9059-52e8e57a1f25'},\n",
       " {'domain': '.binance.com',\n",
       "  'httpOnly': True,\n",
       "  'name': 'r2o1',\n",
       "  'path': '/',\n",
       "  'sameSite': 'Lax',\n",
       "  'secure': True,\n",
       "  'value': 'web.75681012.C8EE7AAD63594C61CBCA140FBC1EC986'},\n",
       " {'domain': '.binance.com',\n",
       "  'expiry': 1624910406,\n",
       "  'httpOnly': False,\n",
       "  'name': '_gid',\n",
       "  'path': '/',\n",
       "  'secure': False,\n",
       "  'value': 'GA1.2.876521260.1624824007'},\n",
       " {'domain': 'www.binance.com',\n",
       "  'httpOnly': True,\n",
       "  'name': 'p20t',\n",
       "  'path': '/',\n",
       "  'sameSite': 'Lax',\n",
       "  'secure': True,\n",
       "  'value': 'web.75681012.6964AD6372B822ABC7FE1A8724B800CC'},\n",
       " {'domain': '.binance.com',\n",
       "  'httpOnly': True,\n",
       "  'name': 'd1og',\n",
       "  'path': '/',\n",
       "  'sameSite': 'Lax',\n",
       "  'secure': True,\n",
       "  'value': 'web.75681012.72938B07334B590933BC9E581AC9C39F'}]"
      ]
     },
     "execution_count": 162,
     "metadata": {},
     "output_type": "execute_result"
    }
   ],
   "source": [
    "driver.get_cookies()"
   ]
  },
  {
   "cell_type": "code",
   "execution_count": 13,
   "metadata": {},
   "outputs": [],
   "source": [
    "driver.find_element_by_id(\"tab-LIMIT\").click()\n",
    "# driver.find_element_by_id(\"tab-STOP\").click()\n",
    "# driver.find_element_by_id(\"tab-MARKET\").click()"
   ]
  },
  {
   "cell_type": "code",
   "execution_count": 157,
   "metadata": {},
   "outputs": [],
   "source": [
    "ORDER_FORM = \"/html/body/div[1]/div/div[2]/div/div[1]/div[4]/div/\""
   ]
  },
  {
   "cell_type": "code",
   "execution_count": 158,
   "metadata": {},
   "outputs": [
    {
     "data": {
      "text/plain": [
       "10"
      ]
     },
     "execution_count": 158,
     "metadata": {},
     "output_type": "execute_result"
    }
   ],
   "source": [
    "int(\n",
    "    driver.find_element_by_xpath(\n",
    "        f\"\"\"{ORDER_FORM}div[1]/div[1]/div[1]/a[2]\"\"\"\n",
    "    ).text[:-1])"
   ]
  },
  {
   "cell_type": "code",
   "execution_count": 25,
   "metadata": {},
   "outputs": [],
   "source": [
    "# Leverage\n",
    "int(driver.find_element_by_xpath(\n",
    "    \"\"\"//*[@id=\"__APP\"]/div/div[3]/div/div/div[3]/div[7]/div/div[1]/div[1]/div[1]/a[2]\"\"\"\n",
    ").text[:-1])\n",
    "\n",
    "driver.find_element_by_xpath(\n",
    "    \"\"\"//*[@id=\"__APP\"]/div/div[3]/div/div/div[3]/div[7]/div/div[1]/div[1]/div[1]/a[2]\"\"\"\n",
    ").click()\n",
    "\n",
    "driver.find_element_by_xpath(\n",
    "    \"\"\"/html/body/div[16]/div/div[2]/div[2]/div/div/input\"\"\"\n",
    ").get_attribute('value')\n",
    "# plus\n",
    "driver.find_element_by_xpath(\n",
    "    \"\"\"/html/body/div[16]/div/div[2]/div[2]/button[2]\"\"\"\n",
    ").click()\n",
    "# moins\n",
    "driver.find_element_by_xpath(\n",
    "    \"\"\"/html/body/div[16]/div/div[2]/div[2]/button[1]\"\"\"\n",
    ").click()\n",
    "\n",
    "driver.find_element_by_xpath(\n",
    "    \"\"\"/html/body/div[16]/div/div[2]/div[6]/button[2]\"\"\"\n",
    ").click()"
   ]
  },
  {
   "cell_type": "code",
   "execution_count": 92,
   "metadata": {},
   "outputs": [],
   "source": [
    "driver.find_element_by_xpath(\n",
    "    \"\"\"/html/body/div[1]/div/div[2]/div/div[1]/div[4]/div\\\n",
    "    /div[4]/form/div[2]/div\"\"\"\n",
    ").click()"
   ]
  },
  {
   "cell_type": "markdown",
   "metadata": {},
   "source": [
    "/html/body/div[1]/div/div[2]/div/div[1]/div[4]/div"
   ]
  },
  {
   "cell_type": "code",
   "execution_count": 153,
   "metadata": {},
   "outputs": [],
   "source": [
    "# Price Size\n",
    "id_Price = driver.find_element_by_xpath(\n",
    "        \"\"\"/html/body/div[1]/div/div[2]/div/div[1]\\\n",
    "        /div[4]/div/div[4]/form/div[1]/div/input\"\"\"\n",
    "    ).get_attribute(\"id\")\n",
    "driver.execute_script(\n",
    "    f\"document.getElementById('{id_Price}').value=33100.01;\"\n",
    ")\n"
   ]
  },
  {
   "cell_type": "markdown",
   "metadata": {},
   "source": [
    "id_Size = driver.find_element_by_xpath(\n",
    "        \"\"\"/html/body/div[1]/div/div[2]/div/div[1]\\\n",
    "        /div[4]/div/div[4]/form/div[2]/div/input\"\"\"\n",
    "    ).get_attribute(\"id\")\n",
    "driver.execute_script(\n",
    "    f\"document.getElementById('{id_Size}').value='100%';\"\n",
    ")"
   ]
  },
  {
   "cell_type": "code",
   "execution_count": 152,
   "metadata": {},
   "outputs": [],
   "source": [
    "driver.find_element_by_xpath(\n",
    "    \"\"\"/html/body/div[1]/div/div[2]/div/div[1]/div[4]/div/div[4]/form/div[3]/div[1]/div/div[9]\"\"\"\n",
    ").click()\n",
    "\n"
   ]
  },
  {
   "cell_type": "code",
   "execution_count": 140,
   "metadata": {},
   "outputs": [
    {
     "data": {
      "text/plain": [
       "'11.98'"
      ]
     },
     "execution_count": 140,
     "metadata": {},
     "output_type": "execute_result"
    }
   ],
   "source": [
    "# Avbl\n",
    "driver.find_element_by_xpath(\n",
    "    \"\"\"/html/body/div[1]/div/div[2]/div/div[1]\\\n",
    "    /div[4]/div/div[4]/div/div[1]/div/span\"\"\"\n",
    ").text"
   ]
  },
  {
   "cell_type": "code",
   "execution_count": 144,
   "metadata": {},
   "outputs": [],
   "source": [
    "# TP SL\n",
    "driver.find_element_by_xpath(\n",
    "    \"\"\"/html/body/div[1]/div/div[2]/div/div[1]\\\n",
    "    /div[4]/div/div[4]/form/div[4]/div/label/div[1]\"\"\"\n",
    ").click()\n"
   ]
  },
  {
   "cell_type": "code",
   "execution_count": 146,
   "metadata": {},
   "outputs": [],
   "source": [
    "id_TP = driver.find_element_by_xpath(\n",
    "        \"\"\"/html/body/div[1]/div/div[2]/div/div[1]\\\n",
    "        /div[4]/div/div[4]/form/div[4]/div[2]/div/input\"\"\"\n",
    "    ).get_attribute(\"id\")\n",
    "driver.execute_script(\n",
    "    f\"document.getElementById('{id_TP}').value='32000';\"\n",
    ")\n",
    "id_SL = driver.find_element_by_xpath(\n",
    "        \"\"\"/html/body/div[1]/div/div[2]/div/div[1]\\\n",
    "        /div[4]/div/div[4]/form/div[4]/div[3]/div/input\"\"\"\n",
    "    ).get_attribute(\"id\")\n",
    "driver.execute_script(\n",
    "    f\"document.getElementById('{id_SL}').value='31000';\"\n",
    ")\n"
   ]
  },
  {
   "cell_type": "code",
   "execution_count": 154,
   "metadata": {},
   "outputs": [],
   "source": [
    "# BUY\n",
    "driver.find_element_by_xpath(\n",
    "    \"\"\"/html/body/div[1]/div/div[2]/div/div[1]\\\n",
    "    /div[4]/div/div[4]/form/div[6]/button[1]\"\"\"\n",
    ").click()"
   ]
  },
  {
   "cell_type": "code",
   "execution_count": 155,
   "metadata": {},
   "outputs": [],
   "source": [
    "# SELL\n",
    "driver.find_element_by_xpath(\n",
    "    \"\"\"/html/body/div[1]/div/div[2]/div/div[1]\\\n",
    "    /div[4]/div/div[4]/form/div[6]/button[2]\"\"\"\n",
    ").click()"
   ]
  },
  {
   "cell_type": "code",
   "execution_count": null,
   "metadata": {},
   "outputs": [],
   "source": []
  }
 ],
 "metadata": {
  "kernelspec": {
   "display_name": "Scientist",
   "language": "python",
   "name": "scientist"
  },
  "language_info": {
   "codemirror_mode": {
    "name": "ipython",
    "version": 3
   },
   "file_extension": ".py",
   "mimetype": "text/x-python",
   "name": "python",
   "nbconvert_exporter": "python",
   "pygments_lexer": "ipython3",
   "version": "3.8.5"
  }
 },
 "nbformat": 4,
 "nbformat_minor": 4
}
