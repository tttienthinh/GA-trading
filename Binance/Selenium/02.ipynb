{
 "cells": [
  {
   "cell_type": "code",
   "execution_count": 1,
   "metadata": {},
   "outputs": [],
   "source": [
    "from bsf import BSF"
   ]
  },
  {
   "cell_type": "code",
   "execution_count": 7,
   "metadata": {},
   "outputs": [
    {
     "name": "stdout",
     "output_type": "stream",
     "text": [
      "Click 'ENTER' when connected !\n"
     ]
    }
   ],
   "source": [
    "b_driver = BSF(\"/home/tttienthinh/Documents/Programmation\\\n",
    "/Bash/StartupApp/driver/chromedriver91\")\n",
    "\n",
    "input(\"Click 'ENTER' when connected !\")\n",
    "\"\"\"\n",
    "b_driver.connect(\n",
    "    \"tranthuongtienthinh@gmail.com\",\n",
    "    \"iae!NICE150402\"\n",
    ")\n",
    "\"\"\"\n",
    "def open_order(leverage, price, TP, SL, action):\n",
    "    avbl = b_driver.get_avbl()\n",
    "    if avbl > 10:\n",
    "        # b_driver.set_leverage(int(leverage))\n",
    "        b_driver.set_price(price)\n",
    "        b_driver.set_TPSL(\n",
    "            TP=TP,\n",
    "            SL=SL\n",
    "        )\n",
    "        if action == \"BUY\":\n",
    "            b_driver.buy()\n",
    "        elif action == \"SELL\":\n",
    "            b_driver.sell()\n",
    "    else:\n",
    "        avbl = f\"Actual pocket have {avbl} no trade\"\n",
    "    return avbl"
   ]
  },
  {
   "cell_type": "code",
   "execution_count": 6,
   "metadata": {},
   "outputs": [
    {
     "data": {
      "text/plain": [
       "12.35"
      ]
     },
     "execution_count": 6,
     "metadata": {},
     "output_type": "execute_result"
    }
   ],
   "source": [
    "open_order(5, 33150, 33100, 33200, \"SELL\")"
   ]
  },
  {
   "cell_type": "code",
   "execution_count": null,
   "metadata": {},
   "outputs": [],
   "source": []
  }
 ],
 "metadata": {
  "kernelspec": {
   "display_name": "Scientist",
   "language": "python",
   "name": "scientist"
  },
  "language_info": {
   "codemirror_mode": {
    "name": "ipython",
    "version": 3
   },
   "file_extension": ".py",
   "mimetype": "text/x-python",
   "name": "python",
   "nbconvert_exporter": "python",
   "pygments_lexer": "ipython3",
   "version": "3.8.10"
  }
 },
 "nbformat": 4,
 "nbformat_minor": 4
}
