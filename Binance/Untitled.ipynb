{
 "cells": [
  {
   "cell_type": "code",
   "execution_count": 1,
   "id": "1179d58e",
   "metadata": {},
   "outputs": [],
   "source": [
    "from binance_d import RequestClient\n",
    "from binance_d.constant.test import *\n",
    "from binance_d.base.printobject import *\n",
    "from binance_d.model.constant import *"
   ]
  },
  {
   "cell_type": "code",
   "execution_count": 2,
   "id": "771f6128",
   "metadata": {},
   "outputs": [],
   "source": [
    "binance_api_key = '0YoXpNjk2J0rwPmIDFlgRuu2fFHKHSADD6qUNoRVTr3N9Rddjdbg3AFP7jzyxvly'    #Enter your own API-key here\n",
    "binance_api_secret = 'rKJZ8XQZGI4D9lTmYztoHmTDPw4fWcNWbT4vEs6edw8qEmBP4QqAYfBmxH6KGWiW' #Enter your own API-secret he"
   ]
  },
  {
   "cell_type": "code",
   "execution_count": 3,
   "id": "da6581e3",
   "metadata": {},
   "outputs": [],
   "source": [
    "request_client = RequestClient(api_key=binance_api_key,\n",
    "                               secret_key=binance_api_secret)"
   ]
  },
  {
   "cell_type": "code",
   "execution_count": null,
   "id": "32b3126e",
   "metadata": {},
   "outputs": [],
   "source": [
    "result = request_client.post_order(symbol=\"btcusd_200925\", \n",
    "                                   side=OrderSide.BUY, ordertype=OrderType.LIMIT, price=10001, quantity=2, timeInForce=TimeInForce.GTC)\n"
   ]
  }
 ],
 "metadata": {
  "kernelspec": {
   "display_name": "Python 3",
   "language": "python",
   "name": "python3"
  },
  "language_info": {
   "codemirror_mode": {
    "name": "ipython",
    "version": 3
   },
   "file_extension": ".py",
   "mimetype": "text/x-python",
   "name": "python",
   "nbconvert_exporter": "python",
   "pygments_lexer": "ipython3",
   "version": "3.7.3"
  }
 },
 "nbformat": 4,
 "nbformat_minor": 5
}
