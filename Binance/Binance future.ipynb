{
 "cells": [
  {
   "cell_type": "code",
   "execution_count": 1,
   "id": "1e42df4c",
   "metadata": {},
   "outputs": [],
   "source": [
    "from binance_f import RequestClient\n",
    "from binance_f.constant.test import *\n",
    "from binance_f.base.printobject import *\n",
    "\n",
    "from IPython.display import clear_output as cl"
   ]
  },
  {
   "cell_type": "code",
   "execution_count": 6,
   "id": "834b7361",
   "metadata": {},
   "outputs": [],
   "source": [
    "binance_api_key = '0YoXpNjk2J0rwPmIDFlgRuu2fFHKHSADD6qUNoRVTr3N9Rddjdbg3AFP7jzyxvly'    #Enter your own API-key here\n",
    "binance_api_secret = 'rKJZ8XQZGI4D9lTmYztoHmTDPw4fWcNWbT4vEs6edw8qEmBP4QqAYfBmxH6KGWiW' #Enter your own API-secret he"
   ]
  },
  {
   "cell_type": "code",
   "execution_count": 12,
   "id": "fe879297",
   "metadata": {},
   "outputs": [],
   "source": [
    "request_client = RequestClient(api_key=binance_api_key, secret_key=binance_api_secret)\n"
   ]
  },
  {
   "cell_type": "code",
   "execution_count": 13,
   "id": "3c291d5e",
   "metadata": {},
   "outputs": [
    {
     "name": "stdout",
     "output_type": "stream",
     "text": [
      "====== Request ======\n",
      "<binance_f.impl.restapirequest.RestApiRequest object at 0xee9f29d0>\n",
      "header:{'client_SDK_Version': 'binance_futures-1.0.1-py3.7', 'Content-Type': 'application/x-www-form-urlencoded', 'X-MBX-APIKEY': '0YoXpNjk2J0rwPmIDFlgRuu2fFHKHSADD6qUNoRVTr3N9Rddjdbg3AFP7jzyxvly'}\n",
      "host:https://fapi.binance.com\n",
      "json_parser:None\n",
      "method:GET\n",
      "post_body:\n",
      "url:/fapi/v1/balance?recvWindow=60000&timestamp=1623101450178&signature=0379a86be469e88a24c67f40270c7b532524eeb8170e4e1e2677fca95cc9a013\n",
      "=====================\n",
      "{\"code\":-2015,\"msg\":\"Invalid API-key, IP, or permissions for action, request ip: 88.138.73.118\"}\n"
     ]
    },
    {
     "ename": "BinanceApiException",
     "evalue": "('ExecuteError', '[Executing] -2015: Invalid API-key, IP, or permissions for action, request ip: 88.138.73.118')",
     "output_type": "error",
     "traceback": [
      "\u001b[0;31m---------------------------------------------------------------------------\u001b[0m",
      "\u001b[0;31mBinanceApiException\u001b[0m                       Traceback (most recent call last)",
      "\u001b[0;32m<ipython-input-13-d768d91a1bb8>\u001b[0m in \u001b[0;36m<module>\u001b[0;34m\u001b[0m\n\u001b[0;32m----> 1\u001b[0;31m \u001b[0mresult\u001b[0m \u001b[0;34m=\u001b[0m \u001b[0mrequest_client\u001b[0m\u001b[0;34m.\u001b[0m\u001b[0mget_balance\u001b[0m\u001b[0;34m(\u001b[0m\u001b[0;34m)\u001b[0m\u001b[0;34m\u001b[0m\u001b[0;34m\u001b[0m\u001b[0m\n\u001b[0m\u001b[1;32m      2\u001b[0m \u001b[0mPrintMix\u001b[0m\u001b[0;34m.\u001b[0m\u001b[0mprint_data\u001b[0m\u001b[0;34m(\u001b[0m\u001b[0mresult\u001b[0m\u001b[0;34m)\u001b[0m\u001b[0;34m\u001b[0m\u001b[0;34m\u001b[0m\u001b[0m\n",
      "\u001b[0;32m/usr/local/lib/python3.7/dist-packages/binance_futures-1.1.0-py3.7.egg/binance_f/requestclient.py\u001b[0m in \u001b[0;36mget_balance\u001b[0;34m(self)\u001b[0m\n\u001b[1;32m    326\u001b[0m         \u001b[0mGet\u001b[0m \u001b[0;34m/\u001b[0m\u001b[0mfapi\u001b[0m\u001b[0;34m/\u001b[0m\u001b[0mv1\u001b[0m\u001b[0;34m/\u001b[0m\u001b[0mbalance\u001b[0m \u001b[0;34m(\u001b[0m\u001b[0mHMAC\u001b[0m \u001b[0mSHA256\u001b[0m\u001b[0;34m)\u001b[0m\u001b[0;34m\u001b[0m\u001b[0;34m\u001b[0m\u001b[0m\n\u001b[1;32m    327\u001b[0m         \"\"\"\n\u001b[0;32m--> 328\u001b[0;31m         \u001b[0mresponse\u001b[0m \u001b[0;34m=\u001b[0m \u001b[0mcall_sync\u001b[0m\u001b[0;34m(\u001b[0m\u001b[0mself\u001b[0m\u001b[0;34m.\u001b[0m\u001b[0mrequest_impl\u001b[0m\u001b[0;34m.\u001b[0m\u001b[0mget_balance\u001b[0m\u001b[0;34m(\u001b[0m\u001b[0;34m)\u001b[0m\u001b[0;34m)\u001b[0m\u001b[0;34m\u001b[0m\u001b[0;34m\u001b[0m\u001b[0m\n\u001b[0m\u001b[1;32m    329\u001b[0m         \u001b[0mself\u001b[0m\u001b[0;34m.\u001b[0m\u001b[0mrefresh_limits\u001b[0m\u001b[0;34m(\u001b[0m\u001b[0mresponse\u001b[0m\u001b[0;34m[\u001b[0m\u001b[0;36m1\u001b[0m\u001b[0;34m]\u001b[0m\u001b[0;34m)\u001b[0m\u001b[0;34m\u001b[0m\u001b[0;34m\u001b[0m\u001b[0m\n\u001b[1;32m    330\u001b[0m         \u001b[0;32mreturn\u001b[0m \u001b[0mresponse\u001b[0m\u001b[0;34m[\u001b[0m\u001b[0;36m0\u001b[0m\u001b[0;34m]\u001b[0m\u001b[0;34m\u001b[0m\u001b[0;34m\u001b[0m\u001b[0m\n",
      "\u001b[0;32m/usr/local/lib/python3.7/dist-packages/binance_futures-1.1.0-py3.7.egg/binance_f/impl/restapiinvoker.py\u001b[0m in \u001b[0;36mcall_sync\u001b[0;34m(request)\u001b[0m\n\u001b[1;32m     35\u001b[0m         \u001b[0mjson_wrapper\u001b[0m \u001b[0;34m=\u001b[0m \u001b[0mparse_json_from_string\u001b[0m\u001b[0;34m(\u001b[0m\u001b[0mresponse\u001b[0m\u001b[0;34m.\u001b[0m\u001b[0mtext\u001b[0m\u001b[0;34m)\u001b[0m\u001b[0;34m\u001b[0m\u001b[0;34m\u001b[0m\u001b[0m\n\u001b[1;32m     36\u001b[0m         \u001b[0mprint\u001b[0m\u001b[0;34m(\u001b[0m\u001b[0mresponse\u001b[0m\u001b[0;34m.\u001b[0m\u001b[0mtext\u001b[0m\u001b[0;34m)\u001b[0m\u001b[0;34m\u001b[0m\u001b[0;34m\u001b[0m\u001b[0m\n\u001b[0;32m---> 37\u001b[0;31m         \u001b[0mcheck_response\u001b[0m\u001b[0;34m(\u001b[0m\u001b[0mjson_wrapper\u001b[0m\u001b[0;34m)\u001b[0m\u001b[0;34m\u001b[0m\u001b[0;34m\u001b[0m\u001b[0m\n\u001b[0m\u001b[1;32m     38\u001b[0m         \u001b[0;32mreturn\u001b[0m \u001b[0;34m(\u001b[0m\u001b[0mrequest\u001b[0m\u001b[0;34m.\u001b[0m\u001b[0mjson_parser\u001b[0m\u001b[0;34m(\u001b[0m\u001b[0mjson_wrapper\u001b[0m\u001b[0;34m)\u001b[0m\u001b[0;34m,\u001b[0m\u001b[0mlimits\u001b[0m\u001b[0;34m)\u001b[0m\u001b[0;34m\u001b[0m\u001b[0;34m\u001b[0m\u001b[0m\n\u001b[1;32m     39\u001b[0m     \u001b[0;32melif\u001b[0m \u001b[0mrequest\u001b[0m\u001b[0;34m.\u001b[0m\u001b[0mmethod\u001b[0m \u001b[0;34m==\u001b[0m \u001b[0;34m\"POST\"\u001b[0m\u001b[0;34m:\u001b[0m\u001b[0;34m\u001b[0m\u001b[0;34m\u001b[0m\u001b[0m\n",
      "\u001b[0;32m/usr/local/lib/python3.7/dist-packages/binance_futures-1.1.0-py3.7.egg/binance_f/impl/restapiinvoker.py\u001b[0m in \u001b[0;36mcheck_response\u001b[0;34m(json_wrapper)\u001b[0m\n\u001b[1;32m     19\u001b[0m         \u001b[0mmsg\u001b[0m \u001b[0;34m=\u001b[0m \u001b[0mjson_wrapper\u001b[0m\u001b[0;34m.\u001b[0m\u001b[0mget_string_or_default\u001b[0m\u001b[0;34m(\u001b[0m\u001b[0;34m\"msg\"\u001b[0m\u001b[0;34m,\u001b[0m \u001b[0;34m\"\"\u001b[0m\u001b[0;34m)\u001b[0m\u001b[0;34m\u001b[0m\u001b[0;34m\u001b[0m\u001b[0m\n\u001b[1;32m     20\u001b[0m         \u001b[0;32mif\u001b[0m \u001b[0mcode\u001b[0m \u001b[0;34m!=\u001b[0m \u001b[0;36m200\u001b[0m\u001b[0;34m:\u001b[0m\u001b[0;34m\u001b[0m\u001b[0;34m\u001b[0m\u001b[0m\n\u001b[0;32m---> 21\u001b[0;31m             \u001b[0;32mraise\u001b[0m \u001b[0mBinanceApiException\u001b[0m\u001b[0;34m(\u001b[0m\u001b[0mBinanceApiException\u001b[0m\u001b[0;34m.\u001b[0m\u001b[0mEXEC_ERROR\u001b[0m\u001b[0;34m,\u001b[0m \u001b[0;34m\"[Executing] \"\u001b[0m \u001b[0;34m+\u001b[0m \u001b[0mstr\u001b[0m\u001b[0;34m(\u001b[0m\u001b[0mcode\u001b[0m\u001b[0;34m)\u001b[0m \u001b[0;34m+\u001b[0m \u001b[0;34m\": \"\u001b[0m \u001b[0;34m+\u001b[0m \u001b[0mmsg\u001b[0m\u001b[0;34m)\u001b[0m\u001b[0;34m\u001b[0m\u001b[0;34m\u001b[0m\u001b[0m\n\u001b[0m\u001b[1;32m     22\u001b[0m \u001b[0;34m\u001b[0m\u001b[0m\n\u001b[1;32m     23\u001b[0m \u001b[0;32mdef\u001b[0m \u001b[0mget_limits_usage\u001b[0m\u001b[0;34m(\u001b[0m\u001b[0mresponse\u001b[0m\u001b[0;34m)\u001b[0m\u001b[0;34m:\u001b[0m\u001b[0;34m\u001b[0m\u001b[0;34m\u001b[0m\u001b[0m\n",
      "\u001b[0;31mBinanceApiException\u001b[0m: ('ExecuteError', '[Executing] -2015: Invalid API-key, IP, or permissions for action, request ip: 88.138.73.118')"
     ]
    }
   ],
   "source": [
    "result = request_client.get_balance()\n",
    "PrintMix.print_data(result)"
   ]
  },
  {
   "cell_type": "code",
   "execution_count": null,
   "id": "e97042fb",
   "metadata": {},
   "outputs": [],
   "source": []
  }
 ],
 "metadata": {
  "kernelspec": {
   "display_name": "Python 3",
   "language": "python",
   "name": "python3"
  },
  "language_info": {
   "codemirror_mode": {
    "name": "ipython",
    "version": 3
   },
   "file_extension": ".py",
   "mimetype": "text/x-python",
   "name": "python",
   "nbconvert_exporter": "python",
   "pygments_lexer": "ipython3",
   "version": "3.7.3"
  }
 },
 "nbformat": 4,
 "nbformat_minor": 5
}
