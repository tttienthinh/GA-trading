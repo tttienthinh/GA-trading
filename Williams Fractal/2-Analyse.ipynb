{
 "cells": [
  {
   "cell_type": "code",
   "execution_count": 1,
   "metadata": {},
   "outputs": [],
   "source": [
    "# IMPORTS\n",
    "import pandas as pd\n",
    "import math\n",
    "import os.path\n",
    "import time\n",
    "from binance.client import Client\n",
    "from datetime import timedelta, datetime\n",
    "from dateutil import parser\n",
    "from tqdm import tqdm_notebook #(Optional, used for progress-bars)"
   ]
  },
  {
   "cell_type": "markdown",
   "metadata": {},
   "source": [
    "# Downloading data"
   ]
  },
  {
   "cell_type": "code",
   "execution_count": 2,
   "metadata": {},
   "outputs": [],
   "source": [
    "### API\n",
    "binance_api_key = '0YoXpNjk2J0rwPmIDFlgRuu2fFHKHSADD6qUNoRVTr3N9Rddjdbg3AFP7jzyxvly'    #Enter your own API-key here\n",
    "binance_api_secret = 'rKJZ8XQZGI4D9lTmYztoHmTDPw4fWcNWbT4vEs6edw8qEmBP4QqAYfBmxH6KGWiW' #Enter your own API-secret here"
   ]
  },
  {
   "cell_type": "code",
   "execution_count": 3,
   "metadata": {},
   "outputs": [],
   "source": [
    "### CONSTANTS\n",
    "binsizes = {\"1m\": 1, \"5m\": 5, \"1h\": 60, \"1d\": 1440}\n",
    "batch_size = 750\n",
    "client = Client(binance_api_key)"
   ]
  },
  {
   "cell_type": "code",
   "execution_count": 4,
   "metadata": {},
   "outputs": [],
   "source": [
    "### FUNCTIONS\n",
    "def minutes_of_new_data(symbol, kline_size, data, source):\n",
    "    if len(data) > 0:  \n",
    "        old = parser.parse(data[\"timestamp\"].iloc[-1])\n",
    "    elif source == \"binance\": \n",
    "        old = datetime.strptime('1 Jan 2017', '%d %b %Y')\n",
    "    if source == \"binance\": \n",
    "        new = pd.to_datetime(\n",
    "            client.get_klines(symbol=symbol, \n",
    "                                      interval=kline_size)[-1][0], \n",
    "            unit='ms'\n",
    "        )\n",
    "    return old, new"
   ]
  },
  {
   "cell_type": "code",
   "execution_count": 5,
   "metadata": {},
   "outputs": [],
   "source": [
    "def get_all_binance(symbol, kline_size, save = False):\n",
    "    filename = '%s-%s-data.csv' % (symbol, kline_size)\n",
    "    if os.path.isfile(filename): \n",
    "        data_df = pd.read_csv(filename)\n",
    "    else: \n",
    "        data_df = pd.DataFrame()\n",
    "    oldest_point, newest_point = minutes_of_new_data(symbol, \n",
    "                                                     kline_size, \n",
    "                                                     data_df, \n",
    "                                                     source = \"binance\")\n",
    "    delta_min = (newest_point - oldest_point).total_seconds()/60\n",
    "    available_data = math.ceil(delta_min/binsizes[kline_size])\n",
    "    if oldest_point == datetime.strptime('1 Jan 2017', '%d %b %Y'): \n",
    "        print('Downloading all available %s data for %s. \\\n",
    "        Be patient..!' % (kline_size, symbol))\n",
    "    else: \n",
    "        print('Downloading %d minutes of new data available \\\n",
    "        for %s, i.e. %d instances of %s data.' \\\n",
    "              % (delta_min, symbol, available_data, kline_size))\n",
    "    klines = client.get_historical_klines(symbol, \n",
    "                                          kline_size, \n",
    "                                          oldest_point.strftime(\"%d %b %Y %H:%M:%S\"), \n",
    "                                          newest_point.strftime(\"%d %b %Y %H:%M:%S\"))\n",
    "    data = pd.DataFrame(klines, \n",
    "                        columns = ['timestamp', 'open', 'high', 'low', 'close', 'volume', \n",
    "                                   'close_time', 'quote_av', 'trades', 'tb_base_av', \n",
    "                                   'tb_quote_av', 'ignore' ])\n",
    "    data['timestamp'] = pd.to_datetime(data['timestamp'], unit='ms')\n",
    "    if len(data_df) > 0:\n",
    "        temp_df = pd.DataFrame(data)\n",
    "        data_df = data_df.append(temp_df)\n",
    "    else: \n",
    "        data_df = data\n",
    "    data_df.set_index('timestamp', inplace=True)\n",
    "    if save: \n",
    "        data_df.to_csv(filename)\n",
    "    print('All caught up..!')\n",
    "    return data_df"
   ]
  },
  {
   "cell_type": "code",
   "execution_count": 6,
   "metadata": {},
   "outputs": [],
   "source": [
    "def get_delta_binance(symbol, kline_size, save = False, delta=timedelta(days=7)):\n",
    "    filename = '%s-%s-data.csv' % (symbol, kline_size)\n",
    "    data_df = pd.DataFrame()\n",
    "    oldest_point, newest_point = minutes_of_new_data(symbol, \n",
    "                                                     kline_size, \n",
    "                                                     data_df, \n",
    "                                                     source = \"binance\")\n",
    "    oldest_point = newest_point - delta\n",
    "    delta_min = (newest_point - oldest_point).total_seconds()/60\n",
    "    available_data = math.ceil(delta_min/binsizes[kline_size])\n",
    "    print('Downloading %d minutes of new data available \\\n",
    "    for %s, i.e. %d instances of %s data.' \\\n",
    "          % (delta_min, symbol, available_data, kline_size))\n",
    "    klines = client.get_historical_klines(symbol, \n",
    "                                          kline_size, \n",
    "                                          oldest_point.strftime(\"%d %b %Y %H:%M:%S\"), \n",
    "                                          newest_point.strftime(\"%d %b %Y %H:%M:%S\"))\n",
    "    data = pd.DataFrame(klines, \n",
    "                        columns = ['timestamp', 'open', 'high', 'low', 'close', 'volume', \n",
    "                                   'close_time', 'quote_av', 'trades', 'tb_base_av', \n",
    "                                   'tb_quote_av', 'ignore' ])\n",
    "    data['timestamp'] = pd.to_datetime(data['timestamp'], unit='ms')\n",
    "    if len(data_df) > 0:\n",
    "        temp_df = pd.DataFrame(data)\n",
    "        data_df = data_df.append(temp_df)\n",
    "    else: \n",
    "        data_df = data\n",
    "    data_df.set_index('timestamp', inplace=True)\n",
    "    if save: \n",
    "        data_df.to_csv(filename)\n",
    "    print('All caught up..!')\n",
    "    return data_df"
   ]
  },
  {
   "cell_type": "code",
   "execution_count": 7,
   "metadata": {
    "scrolled": true
   },
   "outputs": [
    {
     "name": "stdout",
     "output_type": "stream",
     "text": [
      "Downloading 20160 minutes of new data available     for BTCUSDT, i.e. 20160 instances of 1m data.\n",
      "All caught up..!\n"
     ]
    }
   ],
   "source": [
    "data = get_delta_binance(\"BTCUSDT\", '1m', save = True, delta=timedelta(days=14))"
   ]
  },
  {
   "cell_type": "markdown",
   "metadata": {},
   "source": [
    "# Analysing"
   ]
  },
  {
   "cell_type": "code",
   "execution_count": 4,
   "metadata": {},
   "outputs": [],
   "source": [
    "import pandas as pd\n",
    "import matplotlib.pyplot as plt\n",
    "from datetime import datetime"
   ]
  },
  {
   "cell_type": "code",
   "execution_count": 5,
   "metadata": {
    "scrolled": true
   },
   "outputs": [
    {
     "data": {
      "text/html": [
       "<div>\n",
       "<style scoped>\n",
       "    .dataframe tbody tr th:only-of-type {\n",
       "        vertical-align: middle;\n",
       "    }\n",
       "\n",
       "    .dataframe tbody tr th {\n",
       "        vertical-align: top;\n",
       "    }\n",
       "\n",
       "    .dataframe thead th {\n",
       "        text-align: right;\n",
       "    }\n",
       "</style>\n",
       "<table border=\"1\" class=\"dataframe\">\n",
       "  <thead>\n",
       "    <tr style=\"text-align: right;\">\n",
       "      <th></th>\n",
       "      <th>timestamp</th>\n",
       "      <th>open</th>\n",
       "      <th>high</th>\n",
       "      <th>low</th>\n",
       "      <th>close</th>\n",
       "      <th>volume</th>\n",
       "      <th>close_time</th>\n",
       "      <th>quote_av</th>\n",
       "      <th>trades</th>\n",
       "      <th>tb_base_av</th>\n",
       "      <th>tb_quote_av</th>\n",
       "      <th>ignore</th>\n",
       "    </tr>\n",
       "  </thead>\n",
       "  <tbody>\n",
       "    <tr>\n",
       "      <th>0</th>\n",
       "      <td>2021-07-04 18:51:00</td>\n",
       "      <td>35475.86</td>\n",
       "      <td>35486.49</td>\n",
       "      <td>35470.57</td>\n",
       "      <td>35485.45</td>\n",
       "      <td>6.507523</td>\n",
       "      <td>1625424719999</td>\n",
       "      <td>2.308892e+05</td>\n",
       "      <td>297</td>\n",
       "      <td>3.019595</td>\n",
       "      <td>107132.595848</td>\n",
       "      <td>0</td>\n",
       "    </tr>\n",
       "    <tr>\n",
       "      <th>1</th>\n",
       "      <td>2021-07-04 18:52:00</td>\n",
       "      <td>35485.45</td>\n",
       "      <td>35489.98</td>\n",
       "      <td>35478.59</td>\n",
       "      <td>35481.50</td>\n",
       "      <td>9.580729</td>\n",
       "      <td>1625424779999</td>\n",
       "      <td>3.399682e+05</td>\n",
       "      <td>306</td>\n",
       "      <td>4.968406</td>\n",
       "      <td>176304.670780</td>\n",
       "      <td>0</td>\n",
       "    </tr>\n",
       "    <tr>\n",
       "      <th>2</th>\n",
       "      <td>2021-07-04 18:53:00</td>\n",
       "      <td>35481.50</td>\n",
       "      <td>35500.00</td>\n",
       "      <td>35470.75</td>\n",
       "      <td>35499.68</td>\n",
       "      <td>15.369071</td>\n",
       "      <td>1625424839999</td>\n",
       "      <td>5.454286e+05</td>\n",
       "      <td>455</td>\n",
       "      <td>7.694150</td>\n",
       "      <td>273075.902500</td>\n",
       "      <td>0</td>\n",
       "    </tr>\n",
       "    <tr>\n",
       "      <th>3</th>\n",
       "      <td>2021-07-04 18:54:00</td>\n",
       "      <td>35499.68</td>\n",
       "      <td>35524.99</td>\n",
       "      <td>35495.00</td>\n",
       "      <td>35522.15</td>\n",
       "      <td>29.275888</td>\n",
       "      <td>1625424899999</td>\n",
       "      <td>1.039711e+06</td>\n",
       "      <td>650</td>\n",
       "      <td>21.447608</td>\n",
       "      <td>761691.157588</td>\n",
       "      <td>0</td>\n",
       "    </tr>\n",
       "    <tr>\n",
       "      <th>4</th>\n",
       "      <td>2021-07-04 18:55:00</td>\n",
       "      <td>35522.15</td>\n",
       "      <td>35530.00</td>\n",
       "      <td>35511.22</td>\n",
       "      <td>35515.31</td>\n",
       "      <td>16.722982</td>\n",
       "      <td>1625424959999</td>\n",
       "      <td>5.940260e+05</td>\n",
       "      <td>382</td>\n",
       "      <td>6.649400</td>\n",
       "      <td>236209.669217</td>\n",
       "      <td>0</td>\n",
       "    </tr>\n",
       "  </tbody>\n",
       "</table>\n",
       "</div>"
      ],
      "text/plain": [
       "             timestamp      open      high       low     close     volume  \\\n",
       "0  2021-07-04 18:51:00  35475.86  35486.49  35470.57  35485.45   6.507523   \n",
       "1  2021-07-04 18:52:00  35485.45  35489.98  35478.59  35481.50   9.580729   \n",
       "2  2021-07-04 18:53:00  35481.50  35500.00  35470.75  35499.68  15.369071   \n",
       "3  2021-07-04 18:54:00  35499.68  35524.99  35495.00  35522.15  29.275888   \n",
       "4  2021-07-04 18:55:00  35522.15  35530.00  35511.22  35515.31  16.722982   \n",
       "\n",
       "      close_time      quote_av  trades  tb_base_av    tb_quote_av  ignore  \n",
       "0  1625424719999  2.308892e+05     297    3.019595  107132.595848       0  \n",
       "1  1625424779999  3.399682e+05     306    4.968406  176304.670780       0  \n",
       "2  1625424839999  5.454286e+05     455    7.694150  273075.902500       0  \n",
       "3  1625424899999  1.039711e+06     650   21.447608  761691.157588       0  \n",
       "4  1625424959999  5.940260e+05     382    6.649400  236209.669217       0  "
      ]
     },
     "execution_count": 5,
     "metadata": {},
     "output_type": "execute_result"
    }
   ],
   "source": [
    "df = pd.read_csv(\"BTCUSDT-1m-data.csv\")\n",
    "df.head()"
   ]
  },
  {
   "cell_type": "code",
   "execution_count": 6,
   "metadata": {
    "scrolled": true
   },
   "outputs": [],
   "source": [
    "ts = [datetime.strptime(elem, '%Y-%m-%d %H:%M:%S') for elem in df.timestamp]"
   ]
  },
  {
   "cell_type": "code",
   "execution_count": 7,
   "metadata": {
    "scrolled": false
   },
   "outputs": [
    {
     "data": {
      "text/plain": [
       "<matplotlib.legend.Legend at 0x7f8755efe640>"
      ]
     },
     "execution_count": 7,
     "metadata": {},
     "output_type": "execute_result"
    },
    {
     "data": {
      "image/png": "[encoded data removed]",
      "text/plain": [
       "<Figure size 432x288 with 1 Axes>"
      ]
     },
     "metadata": {
      "needs_background": "light"
     },
     "output_type": "display_data"
    }
   ],
   "source": [
    "plt.plot(ts, df.close, \"black\", label=\"Close\")\n",
    "plt.plot(ts, df.low, \"red\", label=\"Low\")\n",
    "plt.plot(ts, df.high, \"green\", label=\"High\")\n",
    "plt.plot(ts, df.open, label=\"Open\")\n",
    "\n",
    "plt.legend()"
   ]
  },
  {
   "cell_type": "code",
   "execution_count": null,
   "metadata": {},
   "outputs": [],
   "source": []
  },
  {
   "cell_type": "code",
   "execution_count": 72,
   "metadata": {},
   "outputs": [],
   "source": [
    "data = pd.read_csv(\"BTCUSDT-1m-data.csv\")\n",
    "\n",
    "df = data[[\"timestamp\", \"open\", \"high\", \"low\", \"close\"]].rename({\"timestamp\":\"Date\", \"open\":\"Open\", \"high\":\"High\", \"low\":\"Low\", \"close\":\"Close\"}, axis='columns')"
   ]
  },
  {
   "cell_type": "code",
   "execution_count": 74,
   "metadata": {},
   "outputs": [
    {
     "data": {
      "text/html": [
       "<div>\n",
       "<style scoped>\n",
       "    .dataframe tbody tr th:only-of-type {\n",
       "        vertical-align: middle;\n",
       "    }\n",
       "\n",
       "    .dataframe tbody tr th {\n",
       "        vertical-align: top;\n",
       "    }\n",
       "\n",
       "    .dataframe thead th {\n",
       "        text-align: right;\n",
       "    }\n",
       "</style>\n",
       "<table border=\"1\" class=\"dataframe\">\n",
       "  <thead>\n",
       "    <tr style=\"text-align: right;\">\n",
       "      <th></th>\n",
       "      <th>Open</th>\n",
       "      <th>High</th>\n",
       "      <th>Low</th>\n",
       "      <th>Close</th>\n",
       "    </tr>\n",
       "    <tr>\n",
       "      <th>Date</th>\n",
       "      <th></th>\n",
       "      <th></th>\n",
       "      <th></th>\n",
       "      <th></th>\n",
       "    </tr>\n",
       "  </thead>\n",
       "  <tbody>\n",
       "    <tr>\n",
       "      <th>2021-07-04 18:51:00</th>\n",
       "      <td>35475.86</td>\n",
       "      <td>35486.49</td>\n",
       "      <td>35470.57</td>\n",
       "      <td>35485.45</td>\n",
       "    </tr>\n",
       "    <tr>\n",
       "      <th>2021-07-04 18:52:00</th>\n",
       "      <td>35485.45</td>\n",
       "      <td>35489.98</td>\n",
       "      <td>35478.59</td>\n",
       "      <td>35481.50</td>\n",
       "    </tr>\n",
       "    <tr>\n",
       "      <th>2021-07-04 18:53:00</th>\n",
       "      <td>35481.50</td>\n",
       "      <td>35500.00</td>\n",
       "      <td>35470.75</td>\n",
       "      <td>35499.68</td>\n",
       "    </tr>\n",
       "    <tr>\n",
       "      <th>2021-07-04 18:54:00</th>\n",
       "      <td>35499.68</td>\n",
       "      <td>35524.99</td>\n",
       "      <td>35495.00</td>\n",
       "      <td>35522.15</td>\n",
       "    </tr>\n",
       "    <tr>\n",
       "      <th>2021-07-04 18:55:00</th>\n",
       "      <td>35522.15</td>\n",
       "      <td>35530.00</td>\n",
       "      <td>35511.22</td>\n",
       "      <td>35515.31</td>\n",
       "    </tr>\n",
       "    <tr>\n",
       "      <th>...</th>\n",
       "      <td>...</td>\n",
       "      <td>...</td>\n",
       "      <td>...</td>\n",
       "      <td>...</td>\n",
       "    </tr>\n",
       "    <tr>\n",
       "      <th>2021-07-08 18:47:00</th>\n",
       "      <td>32853.49</td>\n",
       "      <td>32856.25</td>\n",
       "      <td>32850.01</td>\n",
       "      <td>32850.01</td>\n",
       "    </tr>\n",
       "    <tr>\n",
       "      <th>2021-07-08 18:48:00</th>\n",
       "      <td>32850.02</td>\n",
       "      <td>32856.78</td>\n",
       "      <td>32776.30</td>\n",
       "      <td>32787.96</td>\n",
       "    </tr>\n",
       "    <tr>\n",
       "      <th>2021-07-08 18:49:00</th>\n",
       "      <td>32787.97</td>\n",
       "      <td>32794.88</td>\n",
       "      <td>32766.85</td>\n",
       "      <td>32782.22</td>\n",
       "    </tr>\n",
       "    <tr>\n",
       "      <th>2021-07-08 18:50:00</th>\n",
       "      <td>32782.22</td>\n",
       "      <td>32827.88</td>\n",
       "      <td>32782.21</td>\n",
       "      <td>32827.05</td>\n",
       "    </tr>\n",
       "    <tr>\n",
       "      <th>2021-07-08 18:51:00</th>\n",
       "      <td>32827.05</td>\n",
       "      <td>32827.05</td>\n",
       "      <td>32810.02</td>\n",
       "      <td>32815.75</td>\n",
       "    </tr>\n",
       "  </tbody>\n",
       "</table>\n",
       "<p>5761 rows × 4 columns</p>\n",
       "</div>"
      ],
      "text/plain": [
       "                         Open      High       Low     Close\n",
       "Date                                                       \n",
       "2021-07-04 18:51:00  35475.86  35486.49  35470.57  35485.45\n",
       "2021-07-04 18:52:00  35485.45  35489.98  35478.59  35481.50\n",
       "2021-07-04 18:53:00  35481.50  35500.00  35470.75  35499.68\n",
       "2021-07-04 18:54:00  35499.68  35524.99  35495.00  35522.15\n",
       "2021-07-04 18:55:00  35522.15  35530.00  35511.22  35515.31\n",
       "...                       ...       ...       ...       ...\n",
       "2021-07-08 18:47:00  32853.49  32856.25  32850.01  32850.01\n",
       "2021-07-08 18:48:00  32850.02  32856.78  32776.30  32787.96\n",
       "2021-07-08 18:49:00  32787.97  32794.88  32766.85  32782.22\n",
       "2021-07-08 18:50:00  32782.22  32827.88  32782.21  32827.05\n",
       "2021-07-08 18:51:00  32827.05  32827.05  32810.02  32815.75\n",
       "\n",
       "[5761 rows x 4 columns]"
      ]
     },
     "execution_count": 74,
     "metadata": {},
     "output_type": "execute_result"
    }
   ],
   "source": [
    "df.set_index(\"Date\")"
   ]
  },
  {
   "cell_type": "code",
   "execution_count": null,
   "metadata": {},
   "outputs": [],
   "source": []
  }
 ],
 "metadata": {
  "kernelspec": {
   "display_name": "Scientist",
   "language": "python",
   "name": "scientist"
  },
  "language_info": {
   "codemirror_mode": {
    "name": "ipython",
    "version": 3
   },
   "file_extension": ".py",
   "mimetype": "text/x-python",
   "name": "python",
   "nbconvert_exporter": "python",
   "pygments_lexer": "ipython3",
   "version": "3.8.10"
  }
 },
 "nbformat": 4,
 "nbformat_minor": 4
}
